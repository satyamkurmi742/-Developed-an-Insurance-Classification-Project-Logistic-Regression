{
 "cells": [
  {
   "cell_type": "markdown",
   "metadata": {
    "id": "2607dc02",
    "papermill": {
     "duration": 0.012164,
     "end_time": "2024-03-21T17:10:22.524428",
     "exception": false,
     "start_time": "2024-03-21T17:10:22.512264",
     "status": "completed"
    },
    "tags": []
   },
   "source": [
    "# **Data Analysis**"
   ]
  },
  {
   "cell_type": "markdown",
   "metadata": {
    "id": "KV9eIz2y_mU2"
   },
   "source": [
    "**Importing DataFrame**"
   ]
  },
  {
   "cell_type": "code",
   "execution_count": 1,
   "metadata": {
    "id": "101ec4a3",
    "papermill": {
     "duration": 1.113082,
     "end_time": "2024-03-21T17:10:23.648467",
     "exception": false,
     "start_time": "2024-03-21T17:10:22.535385",
     "status": "completed"
    },
    "tags": []
   },
   "outputs": [],
   "source": [
    "import pandas as pd"
   ]
  },
  {
   "cell_type": "code",
   "execution_count": 2,
   "metadata": {},
   "outputs": [],
   "source": [
    "df = pd.read_csv(\"medical_insurance.csv\")"
   ]
  },
  {
   "cell_type": "markdown",
   "metadata": {
    "id": "450bmTAS_v_U"
   },
   "source": [
    "**Loading Dataset**"
   ]
  },
  {
   "cell_type": "code",
   "execution_count": 3,
   "metadata": {
    "id": "1cae3cd6",
    "outputId": "4254bcc7-103d-4a88-dbee-11be3103d6d7",
    "papermill": {
     "duration": 0.078106,
     "end_time": "2024-03-21T17:10:23.737552",
     "exception": false,
     "start_time": "2024-03-21T17:10:23.659446",
     "status": "completed"
    },
    "tags": []
   },
   "outputs": [
    {
     "data": {
      "text/html": [
       "<div>\n",
       "<style scoped>\n",
       "    .dataframe tbody tr th:only-of-type {\n",
       "        vertical-align: middle;\n",
       "    }\n",
       "\n",
       "    .dataframe tbody tr th {\n",
       "        vertical-align: top;\n",
       "    }\n",
       "\n",
       "    .dataframe thead th {\n",
       "        text-align: right;\n",
       "    }\n",
       "</style>\n",
       "<table border=\"1\" class=\"dataframe\">\n",
       "  <thead>\n",
       "    <tr style=\"text-align: right;\">\n",
       "      <th></th>\n",
       "      <th>age</th>\n",
       "      <th>sex</th>\n",
       "      <th>bmi</th>\n",
       "      <th>children</th>\n",
       "      <th>smoker</th>\n",
       "      <th>region</th>\n",
       "      <th>charges</th>\n",
       "    </tr>\n",
       "  </thead>\n",
       "  <tbody>\n",
       "    <tr>\n",
       "      <th>0</th>\n",
       "      <td>19</td>\n",
       "      <td>female</td>\n",
       "      <td>27.900</td>\n",
       "      <td>0</td>\n",
       "      <td>yes</td>\n",
       "      <td>southwest</td>\n",
       "      <td>16884.92400</td>\n",
       "    </tr>\n",
       "    <tr>\n",
       "      <th>1</th>\n",
       "      <td>18</td>\n",
       "      <td>male</td>\n",
       "      <td>33.770</td>\n",
       "      <td>1</td>\n",
       "      <td>no</td>\n",
       "      <td>southeast</td>\n",
       "      <td>1725.55230</td>\n",
       "    </tr>\n",
       "    <tr>\n",
       "      <th>2</th>\n",
       "      <td>28</td>\n",
       "      <td>male</td>\n",
       "      <td>33.000</td>\n",
       "      <td>3</td>\n",
       "      <td>no</td>\n",
       "      <td>southeast</td>\n",
       "      <td>4449.46200</td>\n",
       "    </tr>\n",
       "    <tr>\n",
       "      <th>3</th>\n",
       "      <td>33</td>\n",
       "      <td>male</td>\n",
       "      <td>22.705</td>\n",
       "      <td>0</td>\n",
       "      <td>no</td>\n",
       "      <td>northwest</td>\n",
       "      <td>21984.47061</td>\n",
       "    </tr>\n",
       "    <tr>\n",
       "      <th>4</th>\n",
       "      <td>32</td>\n",
       "      <td>male</td>\n",
       "      <td>28.880</td>\n",
       "      <td>0</td>\n",
       "      <td>no</td>\n",
       "      <td>northwest</td>\n",
       "      <td>3866.85520</td>\n",
       "    </tr>\n",
       "  </tbody>\n",
       "</table>\n",
       "</div>"
      ],
      "text/plain": [
       "   age     sex     bmi  children smoker     region      charges\n",
       "0   19  female  27.900         0    yes  southwest  16884.92400\n",
       "1   18    male  33.770         1     no  southeast   1725.55230\n",
       "2   28    male  33.000         3     no  southeast   4449.46200\n",
       "3   33    male  22.705         0     no  northwest  21984.47061\n",
       "4   32    male  28.880         0     no  northwest   3866.85520"
      ]
     },
     "execution_count": 3,
     "metadata": {},
     "output_type": "execute_result"
    }
   ],
   "source": [
    "\n",
    "df.head(5)"
   ]
  },
  {
   "cell_type": "code",
   "execution_count": 4,
   "metadata": {
    "id": "bWHtpcOt9vqG",
    "outputId": "4ed2dfa0-3da1-4eb6-c39b-a64e9fa8f312"
   },
   "outputs": [
    {
     "name": "stdout",
     "output_type": "stream",
     "text": [
      "<class 'pandas.core.frame.DataFrame'>\n",
      "RangeIndex: 2772 entries, 0 to 2771\n",
      "Data columns (total 7 columns):\n",
      " #   Column    Non-Null Count  Dtype  \n",
      "---  ------    --------------  -----  \n",
      " 0   age       2772 non-null   int64  \n",
      " 1   sex       2772 non-null   object \n",
      " 2   bmi       2772 non-null   float64\n",
      " 3   children  2772 non-null   int64  \n",
      " 4   smoker    2772 non-null   object \n",
      " 5   region    2772 non-null   object \n",
      " 6   charges   2772 non-null   float64\n",
      "dtypes: float64(2), int64(2), object(3)\n",
      "memory usage: 151.7+ KB\n"
     ]
    }
   ],
   "source": [
    "df.info()"
   ]
  },
  {
   "cell_type": "code",
   "execution_count": 5,
   "metadata": {},
   "outputs": [
    {
     "data": {
      "text/html": [
       "<div>\n",
       "<style scoped>\n",
       "    .dataframe tbody tr th:only-of-type {\n",
       "        vertical-align: middle;\n",
       "    }\n",
       "\n",
       "    .dataframe tbody tr th {\n",
       "        vertical-align: top;\n",
       "    }\n",
       "\n",
       "    .dataframe thead th {\n",
       "        text-align: right;\n",
       "    }\n",
       "</style>\n",
       "<table border=\"1\" class=\"dataframe\">\n",
       "  <thead>\n",
       "    <tr style=\"text-align: right;\">\n",
       "      <th></th>\n",
       "      <th>age</th>\n",
       "      <th>bmi</th>\n",
       "      <th>children</th>\n",
       "      <th>charges</th>\n",
       "    </tr>\n",
       "  </thead>\n",
       "  <tbody>\n",
       "    <tr>\n",
       "      <th>count</th>\n",
       "      <td>2772.000000</td>\n",
       "      <td>2772.000000</td>\n",
       "      <td>2772.000000</td>\n",
       "      <td>2772.000000</td>\n",
       "    </tr>\n",
       "    <tr>\n",
       "      <th>mean</th>\n",
       "      <td>39.109668</td>\n",
       "      <td>30.701349</td>\n",
       "      <td>1.101732</td>\n",
       "      <td>13261.369959</td>\n",
       "    </tr>\n",
       "    <tr>\n",
       "      <th>std</th>\n",
       "      <td>14.081459</td>\n",
       "      <td>6.129449</td>\n",
       "      <td>1.214806</td>\n",
       "      <td>12151.768945</td>\n",
       "    </tr>\n",
       "    <tr>\n",
       "      <th>min</th>\n",
       "      <td>18.000000</td>\n",
       "      <td>15.960000</td>\n",
       "      <td>0.000000</td>\n",
       "      <td>1121.873900</td>\n",
       "    </tr>\n",
       "    <tr>\n",
       "      <th>25%</th>\n",
       "      <td>26.000000</td>\n",
       "      <td>26.220000</td>\n",
       "      <td>0.000000</td>\n",
       "      <td>4687.797000</td>\n",
       "    </tr>\n",
       "    <tr>\n",
       "      <th>50%</th>\n",
       "      <td>39.000000</td>\n",
       "      <td>30.447500</td>\n",
       "      <td>1.000000</td>\n",
       "      <td>9333.014350</td>\n",
       "    </tr>\n",
       "    <tr>\n",
       "      <th>75%</th>\n",
       "      <td>51.000000</td>\n",
       "      <td>34.770000</td>\n",
       "      <td>2.000000</td>\n",
       "      <td>16577.779500</td>\n",
       "    </tr>\n",
       "    <tr>\n",
       "      <th>max</th>\n",
       "      <td>64.000000</td>\n",
       "      <td>53.130000</td>\n",
       "      <td>5.000000</td>\n",
       "      <td>63770.428010</td>\n",
       "    </tr>\n",
       "  </tbody>\n",
       "</table>\n",
       "</div>"
      ],
      "text/plain": [
       "               age          bmi     children       charges\n",
       "count  2772.000000  2772.000000  2772.000000   2772.000000\n",
       "mean     39.109668    30.701349     1.101732  13261.369959\n",
       "std      14.081459     6.129449     1.214806  12151.768945\n",
       "min      18.000000    15.960000     0.000000   1121.873900\n",
       "25%      26.000000    26.220000     0.000000   4687.797000\n",
       "50%      39.000000    30.447500     1.000000   9333.014350\n",
       "75%      51.000000    34.770000     2.000000  16577.779500\n",
       "max      64.000000    53.130000     5.000000  63770.428010"
      ]
     },
     "execution_count": 5,
     "metadata": {},
     "output_type": "execute_result"
    }
   ],
   "source": [
    "df.describe()"
   ]
  },
  {
   "cell_type": "markdown",
   "metadata": {
    "id": "83bcfb51",
    "papermill": {
     "duration": 0.011034,
     "end_time": "2024-03-21T17:10:23.761511",
     "exception": false,
     "start_time": "2024-03-21T17:10:23.750477",
     "status": "completed"
    },
    "tags": []
   },
   "source": [
    "## **Preprocessing Data**"
   ]
  },
  {
   "cell_type": "code",
   "execution_count": 6,
   "metadata": {
    "id": "fc44ca9a",
    "outputId": "84c4dd11-3577-4330-cc84-ec992950cbe2",
    "papermill": {
     "duration": 0.029284,
     "end_time": "2024-03-21T17:10:23.801777",
     "exception": false,
     "start_time": "2024-03-21T17:10:23.772493",
     "status": "completed"
    },
    "scrolled": true,
    "tags": []
   },
   "outputs": [
    {
     "data": {
      "text/plain": [
       "age         0\n",
       "sex         0\n",
       "bmi         0\n",
       "children    0\n",
       "smoker      0\n",
       "region      0\n",
       "charges     0\n",
       "dtype: int64"
      ]
     },
     "execution_count": 6,
     "metadata": {},
     "output_type": "execute_result"
    }
   ],
   "source": [
    "df.isnull().sum()"
   ]
  },
  {
   "cell_type": "markdown",
   "metadata": {},
   "source": [
    "**get_dummies to strings, sex, smoker and region and concat with original df**"
   ]
  },
  {
   "cell_type": "code",
   "execution_count": 7,
   "metadata": {
    "id": "0a23eb70",
    "papermill": {
     "duration": 0.040506,
     "end_time": "2024-03-21T17:10:23.853649",
     "exception": false,
     "start_time": "2024-03-21T17:10:23.813143",
     "status": "completed"
    },
    "tags": []
   },
   "outputs": [],
   "source": [
    "\n",
    "df_dummied = pd.concat([df, pd.get_dummies(df[['sex', 'smoker', 'region']])], axis=1)"
   ]
  },
  {
   "cell_type": "markdown",
   "metadata": {},
   "source": [
    "**drop the columns that i get_dummied**"
   ]
  },
  {
   "cell_type": "code",
   "execution_count": 8,
   "metadata": {
    "id": "2c7eb2b8",
    "papermill": {
     "duration": 0.025117,
     "end_time": "2024-03-21T17:10:23.890282",
     "exception": false,
     "start_time": "2024-03-21T17:10:23.865165",
     "status": "completed"
    },
    "tags": []
   },
   "outputs": [],
   "source": [
    "\n",
    "df_dummied.drop(columns=['sex', 'smoker', 'region'], inplace=True)"
   ]
  },
  {
   "cell_type": "code",
   "execution_count": 9,
   "metadata": {
    "id": "bfcf57ad",
    "outputId": "b410de15-1377-4f97-8498-d59d08a33296",
    "papermill": {
     "duration": 0.033356,
     "end_time": "2024-03-21T17:10:23.935191",
     "exception": false,
     "start_time": "2024-03-21T17:10:23.901835",
     "status": "completed"
    },
    "tags": []
   },
   "outputs": [
    {
     "data": {
      "text/html": [
       "<div>\n",
       "<style scoped>\n",
       "    .dataframe tbody tr th:only-of-type {\n",
       "        vertical-align: middle;\n",
       "    }\n",
       "\n",
       "    .dataframe tbody tr th {\n",
       "        vertical-align: top;\n",
       "    }\n",
       "\n",
       "    .dataframe thead th {\n",
       "        text-align: right;\n",
       "    }\n",
       "</style>\n",
       "<table border=\"1\" class=\"dataframe\">\n",
       "  <thead>\n",
       "    <tr style=\"text-align: right;\">\n",
       "      <th></th>\n",
       "      <th>age</th>\n",
       "      <th>bmi</th>\n",
       "      <th>children</th>\n",
       "      <th>charges</th>\n",
       "      <th>sex_female</th>\n",
       "      <th>sex_male</th>\n",
       "      <th>smoker_no</th>\n",
       "      <th>smoker_yes</th>\n",
       "      <th>region_northeast</th>\n",
       "      <th>region_northwest</th>\n",
       "      <th>region_southeast</th>\n",
       "      <th>region_southwest</th>\n",
       "    </tr>\n",
       "  </thead>\n",
       "  <tbody>\n",
       "    <tr>\n",
       "      <th>0</th>\n",
       "      <td>19</td>\n",
       "      <td>27.900</td>\n",
       "      <td>0</td>\n",
       "      <td>16884.92400</td>\n",
       "      <td>True</td>\n",
       "      <td>False</td>\n",
       "      <td>False</td>\n",
       "      <td>True</td>\n",
       "      <td>False</td>\n",
       "      <td>False</td>\n",
       "      <td>False</td>\n",
       "      <td>True</td>\n",
       "    </tr>\n",
       "    <tr>\n",
       "      <th>1</th>\n",
       "      <td>18</td>\n",
       "      <td>33.770</td>\n",
       "      <td>1</td>\n",
       "      <td>1725.55230</td>\n",
       "      <td>False</td>\n",
       "      <td>True</td>\n",
       "      <td>True</td>\n",
       "      <td>False</td>\n",
       "      <td>False</td>\n",
       "      <td>False</td>\n",
       "      <td>True</td>\n",
       "      <td>False</td>\n",
       "    </tr>\n",
       "    <tr>\n",
       "      <th>2</th>\n",
       "      <td>28</td>\n",
       "      <td>33.000</td>\n",
       "      <td>3</td>\n",
       "      <td>4449.46200</td>\n",
       "      <td>False</td>\n",
       "      <td>True</td>\n",
       "      <td>True</td>\n",
       "      <td>False</td>\n",
       "      <td>False</td>\n",
       "      <td>False</td>\n",
       "      <td>True</td>\n",
       "      <td>False</td>\n",
       "    </tr>\n",
       "    <tr>\n",
       "      <th>3</th>\n",
       "      <td>33</td>\n",
       "      <td>22.705</td>\n",
       "      <td>0</td>\n",
       "      <td>21984.47061</td>\n",
       "      <td>False</td>\n",
       "      <td>True</td>\n",
       "      <td>True</td>\n",
       "      <td>False</td>\n",
       "      <td>False</td>\n",
       "      <td>True</td>\n",
       "      <td>False</td>\n",
       "      <td>False</td>\n",
       "    </tr>\n",
       "    <tr>\n",
       "      <th>4</th>\n",
       "      <td>32</td>\n",
       "      <td>28.880</td>\n",
       "      <td>0</td>\n",
       "      <td>3866.85520</td>\n",
       "      <td>False</td>\n",
       "      <td>True</td>\n",
       "      <td>True</td>\n",
       "      <td>False</td>\n",
       "      <td>False</td>\n",
       "      <td>True</td>\n",
       "      <td>False</td>\n",
       "      <td>False</td>\n",
       "    </tr>\n",
       "  </tbody>\n",
       "</table>\n",
       "</div>"
      ],
      "text/plain": [
       "   age     bmi  children      charges  sex_female  sex_male  smoker_no  \\\n",
       "0   19  27.900         0  16884.92400        True     False      False   \n",
       "1   18  33.770         1   1725.55230       False      True       True   \n",
       "2   28  33.000         3   4449.46200       False      True       True   \n",
       "3   33  22.705         0  21984.47061       False      True       True   \n",
       "4   32  28.880         0   3866.85520       False      True       True   \n",
       "\n",
       "   smoker_yes  region_northeast  region_northwest  region_southeast  \\\n",
       "0        True             False             False             False   \n",
       "1       False             False             False              True   \n",
       "2       False             False             False              True   \n",
       "3       False             False              True             False   \n",
       "4       False             False              True             False   \n",
       "\n",
       "   region_southwest  \n",
       "0              True  \n",
       "1             False  \n",
       "2             False  \n",
       "3             False  \n",
       "4             False  "
      ]
     },
     "execution_count": 9,
     "metadata": {},
     "output_type": "execute_result"
    }
   ],
   "source": [
    "df_dummied.head()"
   ]
  },
  {
   "cell_type": "markdown",
   "metadata": {
    "id": "ae716a21",
    "papermill": {
     "duration": 0.011387,
     "end_time": "2024-03-21T17:10:23.95925",
     "exception": false,
     "start_time": "2024-03-21T17:10:23.947863",
     "status": "completed"
    },
    "tags": []
   },
   "source": [
    "## **EDA (Exploratory Data Analysis)**"
   ]
  },
  {
   "cell_type": "code",
   "execution_count": 10,
   "metadata": {
    "id": "4df905ab",
    "outputId": "961342f1-3afd-43fe-fd0f-ef6baaa0033a",
    "papermill": {
     "duration": 0.045145,
     "end_time": "2024-03-21T17:10:24.015924",
     "exception": false,
     "start_time": "2024-03-21T17:10:23.970779",
     "status": "completed"
    },
    "scrolled": true,
    "tags": []
   },
   "outputs": [
    {
     "data": {
      "text/html": [
       "<div>\n",
       "<style scoped>\n",
       "    .dataframe tbody tr th:only-of-type {\n",
       "        vertical-align: middle;\n",
       "    }\n",
       "\n",
       "    .dataframe tbody tr th {\n",
       "        vertical-align: top;\n",
       "    }\n",
       "\n",
       "    .dataframe thead th {\n",
       "        text-align: right;\n",
       "    }\n",
       "</style>\n",
       "<table border=\"1\" class=\"dataframe\">\n",
       "  <thead>\n",
       "    <tr style=\"text-align: right;\">\n",
       "      <th></th>\n",
       "      <th>count</th>\n",
       "      <th>mean</th>\n",
       "      <th>std</th>\n",
       "      <th>min</th>\n",
       "      <th>25%</th>\n",
       "      <th>50%</th>\n",
       "      <th>75%</th>\n",
       "      <th>max</th>\n",
       "    </tr>\n",
       "  </thead>\n",
       "  <tbody>\n",
       "    <tr>\n",
       "      <th>age</th>\n",
       "      <td>2772.0</td>\n",
       "      <td>39.109668</td>\n",
       "      <td>14.081459</td>\n",
       "      <td>18.0000</td>\n",
       "      <td>26.000</td>\n",
       "      <td>39.00000</td>\n",
       "      <td>51.0000</td>\n",
       "      <td>64.00000</td>\n",
       "    </tr>\n",
       "    <tr>\n",
       "      <th>bmi</th>\n",
       "      <td>2772.0</td>\n",
       "      <td>30.701349</td>\n",
       "      <td>6.129449</td>\n",
       "      <td>15.9600</td>\n",
       "      <td>26.220</td>\n",
       "      <td>30.44750</td>\n",
       "      <td>34.7700</td>\n",
       "      <td>53.13000</td>\n",
       "    </tr>\n",
       "    <tr>\n",
       "      <th>children</th>\n",
       "      <td>2772.0</td>\n",
       "      <td>1.101732</td>\n",
       "      <td>1.214806</td>\n",
       "      <td>0.0000</td>\n",
       "      <td>0.000</td>\n",
       "      <td>1.00000</td>\n",
       "      <td>2.0000</td>\n",
       "      <td>5.00000</td>\n",
       "    </tr>\n",
       "    <tr>\n",
       "      <th>charges</th>\n",
       "      <td>2772.0</td>\n",
       "      <td>13261.369959</td>\n",
       "      <td>12151.768945</td>\n",
       "      <td>1121.8739</td>\n",
       "      <td>4687.797</td>\n",
       "      <td>9333.01435</td>\n",
       "      <td>16577.7795</td>\n",
       "      <td>63770.42801</td>\n",
       "    </tr>\n",
       "  </tbody>\n",
       "</table>\n",
       "</div>"
      ],
      "text/plain": [
       "           count          mean           std        min       25%         50%  \\\n",
       "age       2772.0     39.109668     14.081459    18.0000    26.000    39.00000   \n",
       "bmi       2772.0     30.701349      6.129449    15.9600    26.220    30.44750   \n",
       "children  2772.0      1.101732      1.214806     0.0000     0.000     1.00000   \n",
       "charges   2772.0  13261.369959  12151.768945  1121.8739  4687.797  9333.01435   \n",
       "\n",
       "                 75%          max  \n",
       "age          51.0000     64.00000  \n",
       "bmi          34.7700     53.13000  \n",
       "children      2.0000      5.00000  \n",
       "charges   16577.7795  63770.42801  "
      ]
     },
     "execution_count": 10,
     "metadata": {},
     "output_type": "execute_result"
    }
   ],
   "source": [
    "df.describe().T"
   ]
  },
  {
   "cell_type": "markdown",
   "metadata": {
    "id": "seRL_TT39kOJ"
   },
   "source": [
    "The dataset contains 2,772 entries across 7 columns, focusing on individual medical costs billed by health insurance. The key variable of interest, \"charges,\" is a continuous float value, reflecting the insurance cost associated with each individual. The dataset spans a broad age range, notably featuring a significant number of individuals between 18 to 22.5 years, predominantly male. Most have fewer than three children, and the bulk falls within a BMI range indicating overweight to moderate obesity (29.26 to 31.16). The data encompasses four regions (northeast, northwest, southeast, and southwest), with a higher prevalence of smokers in the southeast. This analysis aims to explore how age, sex, BMI, children, smoking status, and region influence insurance costs, with a keen interest in statistical correlations and patterns that may emerge."
   ]
  },
  {
   "cell_type": "markdown",
   "metadata": {
    "id": "9eNqeMzBApYe"
   },
   "source": [
    "**Importing necessary libraries**"
   ]
  },
  {
   "cell_type": "code",
   "execution_count": 11,
   "metadata": {},
   "outputs": [
    {
     "name": "stdout",
     "output_type": "stream",
     "text": [
      "Requirement already satisfied: seaborn in c:\\users\\199an\\anaconda3\\lib\\site-packages (0.12.2)Note: you may need to restart the kernel to use updated packages.\n",
      "\n",
      "Requirement already satisfied: numpy!=1.24.0,>=1.17 in c:\\users\\199an\\anaconda3\\lib\\site-packages (from seaborn) (1.26.4)\n",
      "Requirement already satisfied: pandas>=0.25 in c:\\users\\199an\\anaconda3\\lib\\site-packages (from seaborn) (2.1.4)\n",
      "Requirement already satisfied: matplotlib!=3.6.1,>=3.1 in c:\\users\\199an\\anaconda3\\lib\\site-packages (from seaborn) (3.8.0)\n",
      "Requirement already satisfied: contourpy>=1.0.1 in c:\\users\\199an\\anaconda3\\lib\\site-packages (from matplotlib!=3.6.1,>=3.1->seaborn) (1.2.0)\n",
      "Requirement already satisfied: cycler>=0.10 in c:\\users\\199an\\anaconda3\\lib\\site-packages (from matplotlib!=3.6.1,>=3.1->seaborn) (0.11.0)\n",
      "Requirement already satisfied: fonttools>=4.22.0 in c:\\users\\199an\\anaconda3\\lib\\site-packages (from matplotlib!=3.6.1,>=3.1->seaborn) (4.25.0)\n",
      "Requirement already satisfied: kiwisolver>=1.0.1 in c:\\users\\199an\\anaconda3\\lib\\site-packages (from matplotlib!=3.6.1,>=3.1->seaborn) (1.4.4)\n",
      "Requirement already satisfied: packaging>=20.0 in c:\\users\\199an\\anaconda3\\lib\\site-packages (from matplotlib!=3.6.1,>=3.1->seaborn) (23.1)\n",
      "Requirement already satisfied: pillow>=6.2.0 in c:\\users\\199an\\anaconda3\\lib\\site-packages (from matplotlib!=3.6.1,>=3.1->seaborn) (10.2.0)\n",
      "Requirement already satisfied: pyparsing>=2.3.1 in c:\\users\\199an\\anaconda3\\lib\\site-packages (from matplotlib!=3.6.1,>=3.1->seaborn) (3.0.9)\n",
      "Requirement already satisfied: python-dateutil>=2.7 in c:\\users\\199an\\anaconda3\\lib\\site-packages (from matplotlib!=3.6.1,>=3.1->seaborn) (2.8.2)\n",
      "Requirement already satisfied: pytz>=2020.1 in c:\\users\\199an\\anaconda3\\lib\\site-packages (from pandas>=0.25->seaborn) (2023.3.post1)\n",
      "Requirement already satisfied: tzdata>=2022.1 in c:\\users\\199an\\anaconda3\\lib\\site-packages (from pandas>=0.25->seaborn) (2023.3)\n",
      "Requirement already satisfied: six>=1.5 in c:\\users\\199an\\anaconda3\\lib\\site-packages (from python-dateutil>=2.7->matplotlib!=3.6.1,>=3.1->seaborn) (1.16.0)\n"
     ]
    }
   ],
   "source": [
    "pip install seaborn\n"
   ]
  },
  {
   "cell_type": "code",
   "execution_count": 12,
   "metadata": {
    "id": "2060e1ba",
    "papermill": {
     "duration": 1.758414,
     "end_time": "2024-03-21T17:10:25.786548",
     "exception": false,
     "start_time": "2024-03-21T17:10:24.028134",
     "status": "completed"
    },
    "tags": []
   },
   "outputs": [],
   "source": [
    "import matplotlib.pyplot as plt\n",
    "import seaborn as sns\n",
    "import numpy as np"
   ]
  },
  {
   "cell_type": "markdown",
   "metadata": {
    "id": "EzSk_XLFBEgr"
   },
   "source": [
    "**Distribution of Demographic and Behavioral Characteristics**"
   ]
  },
  {
   "cell_type": "code",
   "execution_count": 13,
   "metadata": {
    "id": "6cbe1e7d",
    "outputId": "090ba610-1029-4993-8e1b-faa97978dc85",
    "papermill": {
     "duration": 1.25518,
     "end_time": "2024-03-21T17:10:27.053664",
     "exception": false,
     "start_time": "2024-03-21T17:10:25.798484",
     "status": "completed"
    },
    "tags": []
   },
   "outputs": [
    {
     "data": {
      "image/png": "[encoded data removed]",
      "text/plain": [
       "<Figure size 800x1000 with 5 Axes>"
      ]
     },
     "metadata": {},
     "output_type": "display_data"
    }
   ],
   "source": [
    "#Subplots with hist\n",
    "fig, axs = plt.subplots(5, figsize=(8,10))\n",
    "\n",
    "axs[0].hist(df['age'], bins=20)\n",
    "axs[0].set_title('Age Distribution')\n",
    "axs[0].set_xlabel('Age')\n",
    "axs[0].set_ylabel('Count')\n",
    "\n",
    "axs[1].hist(df['children'], bins=20)\n",
    "axs[1].set_title('Children Distribution')\n",
    "axs[1].set_xlabel('Children')\n",
    "axs[1].set_ylabel('Count')\n",
    "\n",
    "axs[2].hist(df['smoker'], bins=20)\n",
    "axs[2].set_title('Smoker Distribution')\n",
    "axs[2].set_xlabel('Smoker')\n",
    "axs[2].set_ylabel('Count')\n",
    "\n",
    "axs[3].hist(df['sex'], bins=20)\n",
    "axs[3].set_title('Sex Distribution')\n",
    "axs[3].set_xlabel('Sex')\n",
    "axs[3].set_ylabel('Count')\n",
    "\n",
    "axs[4].hist(df['region'], bins=20)\n",
    "axs[4].set_title('Region Distribution')\n",
    "axs[4].set_xlabel('Region')\n",
    "axs[4].set_ylabel('Count')\n",
    "\n",
    "plt.tight_layout()\n",
    "\n",
    "plt.show()"
   ]
  },
  {
   "cell_type": "markdown",
   "metadata": {
    "id": "mxDs-MEuBxBD"
   },
   "source": [
    "These plots collectively offer insights into the demographics and behaviors of the individuals in the dataset, highlighting the prevalence of younger individuals, the tendency towards smaller family sizes, the lower smoking rates, a balanced gender distribution, and an even regional spread. Such visualizations are critical for understanding the dataset's composition and guiding further analysis on how these factors might influence insurance charges."
   ]
  },
  {
   "cell_type": "markdown",
   "metadata": {
    "id": "69b9bb47",
    "papermill": {
     "duration": 0.012525,
     "end_time": "2024-03-21T17:10:27.079088",
     "exception": false,
     "start_time": "2024-03-21T17:10:27.066563",
     "status": "completed"
    },
    "tags": []
   },
   "source": [
    "## **What are the primary factors influencing medical expenses?**"
   ]
  },
  {
   "cell_type": "markdown",
   "metadata": {
    "id": "FVyiEJJmB7hZ"
   },
   "source": [
    "**Heatmap**"
   ]
  },
  {
   "cell_type": "code",
   "execution_count": 14,
   "metadata": {
    "id": "b68e2c24",
    "outputId": "545a8ba0-a76b-4ad1-a7df-3573f8794db9",
    "papermill": {
     "duration": 0.809645,
     "end_time": "2024-03-21T17:10:27.901684",
     "exception": false,
     "start_time": "2024-03-21T17:10:27.092039",
     "status": "completed"
    },
    "tags": []
   },
   "outputs": [
    {
     "data": {
      "image/png": "[encoded data removed]",
      "text/plain": [
       "<Figure size 1200x900 with 2 Axes>"
      ]
     },
     "metadata": {},
     "output_type": "display_data"
    }
   ],
   "source": [
    "plt.figure(figsize=(12,9))\n",
    "sns.heatmap(df_dummied.corr(), annot=True, cmap='coolwarm', fmt=\".2f\")\n",
    "plt.show()"
   ]
  },
  {
   "cell_type": "markdown",
   "metadata": {
    "id": "ABskxGLuDMJq"
   },
   "source": [
    "The observations from the analysis reveal several key insights into the factors influencing insurance charges. The most striking correlation is found between smoking status and charges, indicating a substantial increase in insurance costs for smokers due to their higher health risks. This aligns with established knowledge regarding the detrimental health effects of smoking. Additionally, age and BMI also exhibit positive correlations with charges, reflecting the expected higher medical expenses associated with older age and increased BMI levels. While regional differences show some correlation with charges, their impact appears to be less significant compared to smoking, age, and BMI. Surprisingly, gender and the number of children show minimal correlation with charges, suggesting these factors have little influence on insurance costs in this dataset. Overall, these findings emphasize the critical role of lifestyle choices and demographic characteristics in determining health insurance premiums, providing valuable insights for risk management and pricing strategies in the insurance industry."
   ]
  },
  {
   "cell_type": "markdown",
   "metadata": {
    "id": "I_LU-pZwDRD-"
   },
   "source": [
    "**Scatter to smoker - charges**"
   ]
  },
  {
   "cell_type": "code",
   "execution_count": 15,
   "metadata": {
    "id": "a7a02672",
    "outputId": "7359b09a-6e7c-4b2b-c0a3-e2046909ef02",
    "papermill": {
     "duration": 0.285983,
     "end_time": "2024-03-21T17:10:28.204305",
     "exception": false,
     "start_time": "2024-03-21T17:10:27.918322",
     "status": "completed"
    },
    "tags": []
   },
   "outputs": [
    {
     "data": {
      "image/png": "[encoded data removed]",
      "text/plain": [
       "<Figure size 640x480 with 1 Axes>"
      ]
     },
     "metadata": {},
     "output_type": "display_data"
    }
   ],
   "source": [
    "plt.scatter(df['smoker'], df['charges'], s=5)\n",
    "plt.title(\"Smoker - Charges\")\n",
    "plt.xlabel('Smoker')\n",
    "plt.ylabel('Charges')\n",
    "plt.show()"
   ]
  },
  {
   "cell_type": "markdown",
   "metadata": {
    "id": "HGNrKH41Dvp2"
   },
   "source": [
    "The observations drawn from the scatter plot analysis reveal distinct patterns within the data. Notably, there are two evident clusters, delineating smokers and non-smokers. This stark division underscores the profound impact of smoking status on insurance charges, with smokers consistently displaying higher costs compared to non-smokers. Moreover, within each cluster, there exists notable variation, particularly among smokers, suggesting that factors beyond smoking, such as age, BMI, and comorbidities, also significantly influence individual insurance charges. Overall, the scatter plot confirms the hypothesis that smoking status is a crucial predictor of elevated medical expenses, emphasizing the necessity for insurers to incorporate smoking status into risk assessments and premium calculations. Additionally, it suggests that a holistic approach to risk assessment, encompassing various factors beyond smoking alone, would enhance the accuracy of insurance pricing models."
   ]
  },
  {
   "cell_type": "markdown",
   "metadata": {
    "id": "hU-dzQJvD0me"
   },
   "source": [
    "**Charges mean between smokers and non smokers**"
   ]
  },
  {
   "cell_type": "code",
   "execution_count": 16,
   "metadata": {
    "id": "081f1ff0",
    "outputId": "29ae7e25-fcd1-41e8-b53f-2e7d5fa85f49",
    "papermill": {
     "duration": 0.030542,
     "end_time": "2024-03-21T17:10:28.250476",
     "exception": false,
     "start_time": "2024-03-21T17:10:28.219934",
     "status": "completed"
    },
    "tags": []
   },
   "outputs": [
    {
     "name": "stdout",
     "output_type": "stream",
     "text": [
      "Mean charges for smokers: 32223.139763617022\n",
      "Mean charges for non-smokers: 8417.8744111404\n"
     ]
    }
   ],
   "source": [
    "smoker_charges = df[df[\"smoker\"] == \"yes\"][\"charges\"]\n",
    "non_smoker_charges = df[df[\"smoker\"] == \"no\"][\"charges\"]\n",
    "\n",
    "mean_smoker_charges = smoker_charges.mean()\n",
    "mean_non_smoker_charges = non_smoker_charges.mean()\n",
    "\n",
    "print(f\"Mean charges for smokers: {mean_smoker_charges}\")\n",
    "print(f\"Mean charges for non-smokers: {mean_non_smoker_charges}\")"
   ]
  },
  {
   "cell_type": "markdown",
   "metadata": {
    "id": "6IShzh1zETbo"
   },
   "source": [
    "The analysis reveals a significant discrepancy in insurance charges between smokers and non-smokers. On average, smokers face much higher costs, around\n",
    "$32,223.14, compared to approximately \\$8,417.87 for non-smokers. This stark contrast emphasizes the substantial financial risk associated with smoking, underscoring its critical role in insurance pricing and risk assessment.\n",
    "\n",
    "The principal factor to medical expenses are smokers, with 79% correlation, followed by age with 30% correlation and bmi with 20%."
   ]
  },
  {
   "cell_type": "markdown",
   "metadata": {
    "id": "e28eca89",
    "papermill": {
     "duration": 0.015896,
     "end_time": "2024-03-21T17:10:28.313919",
     "exception": false,
     "start_time": "2024-03-21T17:10:28.298023",
     "status": "completed"
    },
    "tags": []
   },
   "source": [
    "### **More Statistics**"
   ]
  },
  {
   "cell_type": "code",
   "execution_count": 17,
   "metadata": {
    "id": "bb5733be",
    "outputId": "5487a112-f78b-42ca-e5c1-5f935eee6449",
    "papermill": {
     "duration": 14.688524,
     "end_time": "2024-03-21T17:10:43.024177",
     "exception": false,
     "start_time": "2024-03-21T17:10:28.335653",
     "status": "completed"
    },
    "tags": []
   },
   "outputs": [
    {
     "data": {
      "image/png": "[encoded data removed]",
      "text/plain": [
       "<Figure size 1200x1000 with 3 Axes>"
      ]
     },
     "metadata": {},
     "output_type": "display_data"
    }
   ],
   "source": [
    "#subplots bar\n",
    "fig, axs = plt.subplots(3, figsize=(12,10))\n",
    "\n",
    "axs[0].bar(df['age'], df['charges'])\n",
    "axs[0].set_title('Age - Charges')\n",
    "axs[0].set_xlabel('Age')\n",
    "axs[0].set_ylabel('Charge')\n",
    "\n",
    "axs[1].bar(df['age'], df['bmi'])\n",
    "axs[1].set_title('Age - BMI')\n",
    "axs[1].set_xlabel('Age')\n",
    "axs[1].set_ylabel('BMI')\n",
    "\n",
    "axs[2].bar(df['age'], df['children'])\n",
    "axs[2].set_title('Age - Children')\n",
    "axs[2].set_xlabel('Age')\n",
    "axs[2].set_ylabel('Children')\n",
    "\n",
    "plt.tight_layout()\n",
    "\n",
    "plt.show()"
   ]
  },
  {
   "cell_type": "markdown",
   "metadata": {},
   "source": [
    "**subplots bar**"
   ]
  },
  {
   "cell_type": "code",
   "execution_count": 18,
   "metadata": {
    "id": "80afc83c",
    "outputId": "a2663cce-2c7a-49d8-e8ec-7e6111917f70",
    "papermill": {
     "duration": 9.973858,
     "end_time": "2024-03-21T17:10:53.014591",
     "exception": false,
     "start_time": "2024-03-21T17:10:43.040733",
     "status": "completed"
    },
    "tags": []
   },
   "outputs": [
    {
     "data": {
      "image/png": "[encoded data removed]",
      "text/plain": [
       "<Figure size 600x600 with 2 Axes>"
      ]
     },
     "metadata": {},
     "output_type": "display_data"
    }
   ],
   "source": [
    "fig, axs = plt.subplots(2, figsize=(6,6))\n",
    "\n",
    "axs[0].bar(df['sex'], df['bmi'])\n",
    "axs[0].set_title('Sex - BMI')\n",
    "axs[0].set_xlabel('Sex')\n",
    "axs[0].set_ylabel('BMI')\n",
    "\n",
    "axs[1].bar(df['smoker'], df['bmi'])\n",
    "axs[1].set_title('Smoker - BMI')\n",
    "axs[1].set_xlabel('Smoker')\n",
    "axs[1].set_ylabel('BMI')\n",
    "\n",
    "plt.tight_layout()\n",
    "\n",
    "plt.show()"
   ]
  },
  {
   "cell_type": "markdown",
   "metadata": {},
   "source": [
    "**female and male smokers**\n"
   ]
  },
  {
   "cell_type": "code",
   "execution_count": 19,
   "metadata": {
    "id": "eabeffaa",
    "outputId": "d0d16254-44e1-4beb-bc08-d4274b895479",
    "papermill": {
     "duration": 0.03714,
     "end_time": "2024-03-21T17:10:53.068305",
     "exception": false,
     "start_time": "2024-03-21T17:10:53.031165",
     "status": "completed"
    },
    "tags": []
   },
   "outputs": [
    {
     "data": {
      "text/html": [
       "<div>\n",
       "<style scoped>\n",
       "    .dataframe tbody tr th:only-of-type {\n",
       "        vertical-align: middle;\n",
       "    }\n",
       "\n",
       "    .dataframe tbody tr th {\n",
       "        vertical-align: top;\n",
       "    }\n",
       "\n",
       "    .dataframe thead th {\n",
       "        text-align: right;\n",
       "    }\n",
       "</style>\n",
       "<table border=\"1\" class=\"dataframe\">\n",
       "  <thead>\n",
       "    <tr style=\"text-align: right;\">\n",
       "      <th>sex</th>\n",
       "      <th>female</th>\n",
       "      <th>male</th>\n",
       "    </tr>\n",
       "    <tr>\n",
       "      <th>smoker</th>\n",
       "      <th></th>\n",
       "      <th></th>\n",
       "    </tr>\n",
       "  </thead>\n",
       "  <tbody>\n",
       "    <tr>\n",
       "      <th>no</th>\n",
       "      <td>1134</td>\n",
       "      <td>1074</td>\n",
       "    </tr>\n",
       "    <tr>\n",
       "      <th>yes</th>\n",
       "      <td>232</td>\n",
       "      <td>332</td>\n",
       "    </tr>\n",
       "  </tbody>\n",
       "</table>\n",
       "</div>"
      ],
      "text/plain": [
       "sex     female  male\n",
       "smoker              \n",
       "no        1134  1074\n",
       "yes        232   332"
      ]
     },
     "execution_count": 19,
     "metadata": {},
     "output_type": "execute_result"
    }
   ],
   "source": [
    "\n",
    "df.groupby(['smoker', 'sex']).size().unstack()"
   ]
  },
  {
   "cell_type": "code",
   "execution_count": 20,
   "metadata": {
    "id": "2a9bc34d",
    "outputId": "026492b3-0d34-4f08-8203-bcbaf6a23375",
    "papermill": {
     "duration": 0.678462,
     "end_time": "2024-03-21T17:10:53.764023",
     "exception": false,
     "start_time": "2024-03-21T17:10:53.085561",
     "status": "completed"
    },
    "tags": []
   },
   "outputs": [
    {
     "data": {
      "image/png": "[encoded data removed]",
      "text/plain": [
       "<Figure size 500x800 with 4 Axes>"
      ]
     },
     "metadata": {},
     "output_type": "display_data"
    }
   ],
   "source": [
    "#subploits boxplots\n",
    "fig, axs = plt.subplots(4, figsize=(5,8))\n",
    "\n",
    "axs[0].boxplot(df['age'], vert=False)\n",
    "axs[0].set_title('Age - BOXPLOT')\n",
    "\n",
    "axs[1].boxplot(df['bmi'], vert=False)\n",
    "axs[1].set_title('BMI - BOXPLOT')\n",
    "\n",
    "axs[2].boxplot(df['children'], vert=False)\n",
    "axs[2].set_title('Children - BOXPLOT')\n",
    "\n",
    "axs[3].boxplot(df['charges'], vert=False)\n",
    "axs[3].set_title('Charges - BOXPLOT')\n",
    "\n",
    "plt.tight_layout()\n",
    "\n",
    "plt.show()"
   ]
  },
  {
   "cell_type": "markdown",
   "metadata": {
    "id": "e8af9af0",
    "papermill": {
     "duration": 0.017102,
     "end_time": "2024-03-21T17:10:53.798862",
     "exception": false,
     "start_time": "2024-03-21T17:10:53.78176",
     "status": "completed"
    },
    "tags": []
   },
   "source": [
    "The smokers make this Charges outliers, this will affect our model later"
   ]
  },
  {
   "cell_type": "markdown",
   "metadata": {
    "id": "9eb353de",
    "papermill": {
     "duration": 0.017093,
     "end_time": "2024-03-21T17:10:53.833506",
     "exception": false,
     "start_time": "2024-03-21T17:10:53.816413",
     "status": "completed"
    },
    "tags": []
   },
   "source": [
    "# **Training and Testing Models**"
   ]
  },
  {
   "cell_type": "markdown",
   "metadata": {
    "id": "df755681",
    "papermill": {
     "duration": 0.017003,
     "end_time": "2024-03-21T17:10:53.868045",
     "exception": false,
     "start_time": "2024-03-21T17:10:53.851042",
     "status": "completed"
    },
    "tags": []
   },
   "source": [
    "## **To what extent do Machine Learning Models accurately predict medical expenses?**"
   ]
  },
  {
   "cell_type": "markdown",
   "metadata": {
    "id": "42SSjNlWFROE"
   },
   "source": [
    "**Import necessary models and libraries**"
   ]
  },
  {
   "cell_type": "code",
   "execution_count": 21,
   "metadata": {
    "id": "1PZsZ8c11Z7W"
   },
   "outputs": [],
   "source": [
    "from sklearn.model_selection import train_test_split\n",
    "from sklearn.preprocessing import OneHotEncoder, LabelEncoder\n",
    "from sklearn.compose import ColumnTransformer\n",
    "from sklearn.linear_model import LogisticRegression, Ridge, LinearRegression\n",
    "from sklearn.tree import DecisionTreeRegressor\n",
    "from sklearn.ensemble import RandomForestRegressor, GradientBoostingRegressor\n",
    "from sklearn.neighbors import KNeighborsClassifier\n",
    "from sklearn.svm import SVC\n",
    "from sklearn.naive_bayes import GaussianNB\n",
    "from sklearn.metrics import accuracy_score, r2_score, mean_squared_error, mean_absolute_error, roc_curve, auc"
   ]
  },
  {
   "cell_type": "markdown",
   "metadata": {
    "id": "JAM-91xVFbC4"
   },
   "source": [
    "**Preprocessing**"
   ]
  },
  {
   "cell_type": "code",
   "execution_count": 22,
   "metadata": {
    "id": "9-tQsLAf-TTA"
   },
   "outputs": [],
   "source": [
    "categorical_features = ['sex', 'smoker', 'region']\n",
    "one_hot = OneHotEncoder()\n",
    "transformer = ColumnTransformer([(\"one_hot\", one_hot, categorical_features)], remainder=\"passthrough\")\n",
    "X_transformed = transformer.fit_transform(df.drop('charges', axis=1))\n",
    "y = df['charges']"
   ]
  },
  {
   "cell_type": "markdown",
   "metadata": {
    "id": "2A4uBQnJGVEb"
   },
   "source": [
    "The dataset is transformed for machine learning by encoding categorical features using one-hot encoding, while numerical features remain unchanged. This prepares the data for model training, with the `charges` column as the target variable."
   ]
  },
  {
   "cell_type": "markdown",
   "metadata": {
    "id": "RydR7QOiGbxz"
   },
   "source": [
    "**Split the dataset into training and testing sets for regression**"
   ]
  },
  {
   "cell_type": "code",
   "execution_count": 23,
   "metadata": {
    "id": "Yg6v08E8-VFw"
   },
   "outputs": [],
   "source": [
    "X_train, X_test, y_train, y_test = train_test_split(X_transformed, y, test_size=0.2, random_state=42)"
   ]
  },
  {
   "cell_type": "markdown",
   "metadata": {
    "id": "R6diVuDrGh5m"
   },
   "source": [
    "**Models for regression**"
   ]
  },
  {
   "cell_type": "code",
   "execution_count": 24,
   "metadata": {
    "id": "gg-1urFw-cu_"
   },
   "outputs": [],
   "source": [
    "models = {\n",
    "    \"Linear Regression\": LinearRegression(),\n",
    "    \"Ridge Regression\": Ridge(),\n",
    "    \"Decision Tree Regression\": DecisionTreeRegressor(),\n",
    "    \"Random Forest Regression\": RandomForestRegressor(),\n",
    "    \"Gradient Boosting Regression\": GradientBoostingRegressor(),\n",
    "}\n"
   ]
  },
  {
   "cell_type": "markdown",
   "metadata": {
    "id": "xNKlw49YGl0X"
   },
   "source": [
    "**Train and evaluate regression models**"
   ]
  },
  {
   "cell_type": "code",
   "execution_count": 25,
   "metadata": {
    "id": "wO1Ta2fq-gEY",
    "outputId": "06a91bb2-75a2-4fea-fbcc-80691807eaad"
   },
   "outputs": [
    {
     "name": "stdout",
     "output_type": "stream",
     "text": [
      "Regression Models Evaluation:\n",
      "Model: Linear Regression\n",
      "R2 Score: 0.73981661775643\n",
      "MSE Score: 39933194.54805148\n",
      "MAE Score: 4160.247974762994\n",
      "\n",
      "Model: Ridge Regression\n",
      "R2 Score: 0.7397837206133643\n",
      "MSE Score: 39938243.633057564\n",
      "MAE Score: 4162.651223855456\n",
      "\n",
      "Model: Decision Tree Regression\n",
      "R2 Score: 0.9548998047572287\n",
      "MSE Score: 6922021.13468837\n",
      "MAE Score: 524.4020398378378\n",
      "\n",
      "Model: Random Forest Regression\n",
      "R2 Score: 0.950489430224694\n",
      "MSE Score: 7598929.639446768\n",
      "MAE Score: 1315.7815039942886\n",
      "\n",
      "Model: Gradient Boosting Regression\n",
      "R2 Score: 0.8745359418641633\n",
      "MSE Score: 19256343.733882822\n",
      "MAE Score: 2304.7186285469547\n",
      "\n"
     ]
    }
   ],
   "source": [
    "print(\"Regression Models Evaluation:\")\n",
    "for name, model in models.items():\n",
    "    model.fit(X_train, y_train)\n",
    "    predictions = model.predict(X_test)\n",
    "    r2_score_model = r2_score(y_test, predictions)\n",
    "    mse_score = mean_squared_error(y_test, predictions)\n",
    "    mae_score = mean_absolute_error(y_test, predictions)\n",
    "\n",
    "    print(\"Model:\", name)\n",
    "    print(\"R2 Score:\", r2_score_model)\n",
    "    print(\"MSE Score:\", mse_score)\n",
    "    print(\"MAE Score:\", mae_score)\n",
    "    print()"
   ]
  },
  {
   "cell_type": "markdown",
   "metadata": {
    "id": "5vOG2BWIJ8IZ"
   },
   "source": [
    "Various regression models were evaluated for predicting insurance charges. Decision Tree and Random Forest Regression outperformed Linear and Ridge Regression, with higher R2 scores (0.95) and lower error metrics. Gradient Boosting Regression provided a balance between performance and error metrics, with an R2 score of 0.87."
   ]
  },
  {
   "cell_type": "markdown",
   "metadata": {
    "id": "D1-ue5-fKdIV"
   },
   "source": [
    "**Preparing for classification**"
   ]
  },
  {
   "cell_type": "code",
   "execution_count": 26,
   "metadata": {
    "id": "CCSoSkI9-oe2"
   },
   "outputs": [],
   "source": [
    "df['charges_category'] = (df['charges'] > df['charges'].median()).astype(int)\n",
    "y_categorical = df['charges_category']\n",
    "X_train_cat, X_test_cat, y_train_cat, y_test_cat = train_test_split(X_transformed, y_categorical, test_size=0.2, random_state=42)"
   ]
  },
  {
   "cell_type": "markdown",
   "metadata": {
    "id": "FafRJjKsLCtl"
   },
   "source": [
    "The continuous variable `charges` is transformed into a binary categorical variable, `charges_category`, based on whether each value is above or below the median charge. This allows for a shift from regression to classification tasks, dividing the dataset into two balanced groups: above and below the median charges. With equal instances in each category, the dataset is split for training and testing classification models effectively, providing a simplified approach for insurance risk categorization based on a median threshold."
   ]
  },
  {
   "cell_type": "markdown",
   "metadata": {
    "id": "me47p1n2LGpZ"
   },
   "source": [
    "**Models for classification**"
   ]
  },
  {
   "cell_type": "code",
   "execution_count": 27,
   "metadata": {
    "id": "BzVwF3iB-rlO"
   },
   "outputs": [],
   "source": [
    "class_models = {\n",
    "    \"Logistic Regression\": LogisticRegression(max_iter=1000),\n",
    "    \"KNN Classification\": KNeighborsClassifier(),\n",
    "    \"SVM Classification\": SVC(probability=True),\n",
    "    \"Naive Bayes Classification\": GaussianNB()\n",
    "}"
   ]
  },
  {
   "cell_type": "markdown",
   "metadata": {
    "id": "yEY2K72OLLph"
   },
   "source": [
    "**Train and evaluate classification models**"
   ]
  },
  {
   "cell_type": "code",
   "execution_count": 28,
   "metadata": {
    "id": "-qjlqJyg-uiD",
    "outputId": "8589cd6c-8fee-4c45-bd96-366db85d8bbd"
   },
   "outputs": [
    {
     "name": "stdout",
     "output_type": "stream",
     "text": [
      "\n",
      "Classification Models Evaluation:\n",
      "Logistic Regression: Accuracy = 0.91\n",
      "KNN Classification: Accuracy = 0.87\n",
      "SVM Classification: Accuracy = 0.81\n",
      "Naive Bayes Classification: Accuracy = 0.69\n"
     ]
    }
   ],
   "source": [
    "print(\"\\nClassification Models Evaluation:\")\n",
    "for name, model in class_models.items():\n",
    "    model.fit(X_train_cat, y_train_cat)\n",
    "    if name == \"SVM Classification\":\n",
    "        predictions = model.decision_function(X_test_cat)\n",
    "    else:\n",
    "        predictions = model.predict_proba(X_test_cat)[:, 1]\n",
    "    accuracy = accuracy_score(y_test_cat, model.predict(X_test_cat))\n",
    "    print(f\"{name}: Accuracy = {accuracy:.2f}\")"
   ]
  },
  {
   "cell_type": "markdown",
   "metadata": {
    "id": "KpJB_6w_L_dy"
   },
   "source": [
    "Models were trained to classify individuals into two categories based on insurance charges: above or below the median. **Logistic Regression** achieved the highest accuracy (91.17%), followed by **KNN Classification** and **SVM Classification**. **Naive Bayes Classification** showed the lowest accuracy. **Logistic Regression**'s success indicates strong linear relationships, aiding effective risk-based categorization for insurance premium adjustments."
   ]
  },
  {
   "cell_type": "markdown",
   "metadata": {
    "id": "scZkw0znLSt-"
   },
   "source": []
  },
  {
   "cell_type": "code",
   "execution_count": 29,
   "metadata": {
    "id": "f_7XP6VM2sGe",
    "outputId": "a917614e-3f7f-4594-e808-284c60f8a828"
   },
   "outputs": [
    {
     "name": "stdin",
     "output_type": "stream",
     "text": [
      "Enter age:  22\n",
      "Enter sex (male/female):  female\n",
      "Enter BMI:  22\n",
      "Enter number of children:  2\n",
      "Enter smoker (yes/no):  yes\n",
      "Enter region (southwest/southeast/northwest/northeast):  southeast\n"
     ]
    },
    {
     "name": "stdout",
     "output_type": "stream",
     "text": [
      "   age     sex   bmi  children smoker     region\n",
      "0   22  female  22.0         2    yes  southeast\n",
      "\n",
      "Regression Predictions:\n",
      "Linear Regression: Predicted charges: $24968.29\n",
      "Ridge Regression: Predicted charges: $24945.11\n",
      "Decision Tree Regression: Predicted charges: $15359.10\n",
      "Random Forest Regression: Predicted charges: $17727.44\n",
      "Gradient Boosting Regression: Predicted charges: $17304.69\n",
      "\n",
      "Classification Predictions:\n",
      "Logistic Regression: Predicted category: High charges\n",
      "KNN Classification: Predicted category: Low charges\n",
      "SVM Classification: Predicted category: Low charges\n",
      "Naive Bayes Classification: Predicted category: High charges\n"
     ]
    }
   ],
   "source": [
    "# User Input Function\n",
    "def get_user_input():\n",
    "    age = int(input(\"Enter age: \"))\n",
    "    sex = input(\"Enter sex (male/female): \")\n",
    "    bmi = float(input(\"Enter BMI: \"))\n",
    "    children = int(input(\"Enter number of children: \"))\n",
    "    smoker = input(\"Enter smoker (yes/no): \")\n",
    "    region = input(\"Enter region (southwest/southeast/northwest/northeast): \")\n",
    "\n",
    "    return age, sex, bmi, children, smoker, region\n",
    "\n",
    "# Get user input\n",
    "age, sex, bmi, children, smoker, region = get_user_input()\n",
    "\n",
    "# Create a sample input (like a DataFrame)\n",
    "user_data = pd.DataFrame([[age, sex, bmi, children, smoker, region]], columns=['age', 'sex', 'bmi', 'children', 'smoker', 'region'])\n",
    "\n",
    "print(user_data)\n",
    "\n",
    "# Apply the same transformations\n",
    "user_data_transformed = transformer.transform(user_data)\n",
    "\n",
    "# Regression Predictions\n",
    "print(\"\\nRegression Predictions:\")\n",
    "for name, model in models.items():\n",
    "    prediction = model.predict(user_data_transformed)[0]  # Get the single prediction\n",
    "    print(f\"{name}: Predicted charges: ${prediction:.2f}\")\n",
    "\n",
    "# Classification Predictions\n",
    "print(\"\\nClassification Predictions:\")\n",
    "for name, model in class_models.items():\n",
    "    prediction = model.predict(user_data_transformed)[0]\n",
    "    if prediction == 1:\n",
    "        pred_class = \"High charges\"\n",
    "    else:\n",
    "        pred_class = \"Low charges\"\n",
    "    print(f\"{name}: Predicted category: {pred_class}\")\n"
   ]
  },
  {
   "cell_type": "code",
   "execution_count": null,
   "metadata": {},
   "outputs": [],
   "source": []
  },
  {
   "cell_type": "markdown",
   "metadata": {
    "id": "sgxlpieTM9Xu"
   },
   "source": [
    "The function `get_user_input()` collects user details like **age**, **sex**, **BMI**, etc., creating a DataFrame mimicking training data. This user data is preprocessed and fed into pre-trained **regression** and **classification models** for prediction. This approach offers personalized predictions and real-world applicability, enabling model evaluation on new data. It prompts user inputs for **insurance charge prediction** and categorizes them as **high** or **low** based on the median, providing tailored estimates and risk assessments."
   ]
  },
  {
   "cell_type": "code",
   "execution_count": null,
   "metadata": {},
   "outputs": [],
   "source": []
  },
  {
   "cell_type": "code",
   "execution_count": null,
   "metadata": {},
   "outputs": [],
   "source": []
  },
  {
   "cell_type": "code",
   "execution_count": null,
   "metadata": {},
   "outputs": [],
   "source": []
  }
 ],
 "metadata": {
  "colab": {
   "provenance": []
  },
  "kaggle": {
   "accelerator": "nvidiaTeslaT4",
   "dataSources": [
    {
     "datasetId": 4600225,
     "sourceId": 7845677,
     "sourceType": "datasetVersion"
    }
   ],
   "dockerImageVersionId": 30684,
   "isGpuEnabled": true,
   "isInternetEnabled": false,
   "language": "python",
   "sourceType": "notebook"
  },
  "kernelspec": {
   "display_name": "Python 3 (ipykernel)",
   "language": "python",
   "name": "python3"
  },
  "language_info": {
   "codemirror_mode": {
    "name": "ipython",
    "version": 3
   },
   "file_extension": ".py",
   "mimetype": "text/x-python",
   "name": "python",
   "nbconvert_exporter": "python",
   "pygments_lexer": "ipython3",
   "version": "3.11.7"
  },
  "papermill": {
   "default_parameters": {},
   "duration": 37.033885,
   "end_time": "2024-03-21T17:10:56.30262",
   "environment_variables": {},
   "exception": null,
   "input_path": "__notebook__.ipynb",
   "output_path": "__notebook__.ipynb",
   "parameters": {},
   "start_time": "2024-03-21T17:10:19.268735",
   "version": "2.5.0"
  }
 },
 "nbformat": 4,
 "nbformat_minor": 4
}
